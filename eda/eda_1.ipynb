{
 "cells": [
  {
   "attachments": {},
   "cell_type": "markdown",
   "metadata": {},
   "source": [
    "# Sensor Based Aquaponics Fish Pond Datasets\n",
    "\n"
   ]
  },
  {
   "attachments": {},
   "cell_type": "markdown",
   "metadata": {},
   "source": [
    "### 1. Business Problem"
   ]
  },
  {
   "attachments": {},
   "cell_type": "markdown",
   "metadata": {},
   "source": [
    "#### 1.1 Introduction"
   ]
  },
  {
   "attachments": {},
   "cell_type": "markdown",
   "metadata": {},
   "source": [
    "<p>The aquaculture industry in Indonesia is a vital source of income for many small-scale farmers, but they often lack knowledge and resources to help them. What are the key factors that affect fish growth and health in the freshwater aquaculture system one might ask? Someone said there are many factors that affect the growth of fish, including feed and water quality. Water quality impacts on fish growth rate, feed consumption, and their general wellbeing.</p> \n",
    "<p>Farmers’ ignorance of how to manage pond water properly has resulted to the death of fishes. Therefore, performing exploratory data analysis (EDA) on the aquaculture dataset is essential for improving the health and growth of fish in the freshwater aquaculture system. By identifying the key factors that affect fish growth and health, farmers can take steps to manage their ponds more effectively and improve the success of their aquaculture operation.</p>"
   ]
  },
  {
   "attachments": {},
   "cell_type": "markdown",
   "metadata": {},
   "source": [
    "#### 1.2 Sources/Useful Links"
   ]
  },
  {
   "attachments": {},
   "cell_type": "markdown",
   "metadata": {},
   "source": [
    "Some Useful Links:\n",
    "- https://www.sciencedirect.com/science/article/pii/S2352340922005972\n",
    "- https://journals.plos.org/plosone/article?id=10.1371/journal.pone.0256380\n",
    "- Coming Soon"
   ]
  },
  {
   "attachments": {},
   "cell_type": "markdown",
   "metadata": {},
   "source": [
    "#### 1.3 Business Objectives and Constraints"
   ]
  },
  {
   "attachments": {},
   "cell_type": "markdown",
   "metadata": {},
   "source": [
    "- May bias to certain Catfish\n",
    "- Coming Soon"
   ]
  },
  {
   "attachments": {},
   "cell_type": "markdown",
   "metadata": {},
   "source": [
    "### 2. Machine Learning Problem"
   ]
  },
  {
   "attachments": {},
   "cell_type": "markdown",
   "metadata": {},
   "source": [
    "#### 2.1 Data Overview"
   ]
  },
  {
   "attachments": {},
   "cell_type": "markdown",
   "metadata": {},
   "source": [
    "The dataset contains the date and time the data were collected, the entry id of each data from 1 to n. Then the next six columns contain the IoT water quality parameters (Temperature, pH, Dissolved Oxygen, Ammonia, Turbidity, Nitrate) followed by the last two (Length, Width) columns were manually measured with random sampling.\n",
    "\n",
    "- <b>Temperature</b>:\n",
    "<p></p>\n",
    "\n",
    "- <b>pH</b>:\n",
    "<p></p>\n",
    "\n",
    "- <b>Dissolved Oxygen</b>:\n",
    "<p></p>\n",
    "\n",
    "- <b>Ammomia</b>:\n",
    "Ammonia accumulates in fish ponds due to the breakdown of the protein rich\n",
    "fish feeds, ...\n",
    "\n",
    "- <b>Turbidity</b>:\n",
    "<p></p>\n",
    "\n",
    "- <b>Nitrate</b>:\n",
    "<p></p>\n",
    "\n",
    "Read more about the dataset (https://www.sciencedirect.com/science/article/pii/S2352340922005972)"
   ]
  },
  {
   "attachments": {},
   "cell_type": "markdown",
   "metadata": {},
   "source": [
    "#### 2.2 Type of Machine Learning Task"
   ]
  },
  {
   "attachments": {},
   "cell_type": "markdown",
   "metadata": {},
   "source": [
    "<p>It is a Regression and Forecasting problem</p>"
   ]
  },
  {
   "attachments": {},
   "cell_type": "markdown",
   "metadata": {},
   "source": [
    "#### 2.3 Performance Metric"
   ]
  },
  {
   "attachments": {},
   "cell_type": "markdown",
   "metadata": {},
   "source": [
    "Metrics(s):\n",
    "- Mean Squared Error (MSE)\n",
    "- Mean Absolute Error (MAE)"
   ]
  },
  {
   "attachments": {},
   "cell_type": "markdown",
   "metadata": {},
   "source": [
    "### 3. Exploratory Data Analysis"
   ]
  },
  {
   "attachments": {},
   "cell_type": "markdown",
   "metadata": {},
   "source": [
    "#### 3.1 Basic Information About Dataset"
   ]
  },
  {
   "cell_type": "code",
   "execution_count": null,
   "metadata": {},
   "outputs": [],
   "source": [
    "\"\"\"\n",
    "    Importing The Neccessary Libraries\n",
    "\"\"\"\n",
    "\n",
    "import warnings\n",
    "warnings.filterwarnings(\"ignore\")\n",
    "import numpy as np\n",
    "import pandas as pd\n",
    "import matplotlib.pyplot as plt\n",
    "import seaborn as sns"
   ]
  },
  {
   "cell_type": "code",
   "execution_count": null,
   "metadata": {},
   "outputs": [],
   "source": [
    "dataset = pd.read_csv('../dataset/raw/dataset.csv')\n",
    "\n",
    "dataset.head()"
   ]
  },
  {
   "cell_type": "code",
   "execution_count": null,
   "metadata": {},
   "outputs": [],
   "source": [
    "dataset.describe().T"
   ]
  },
  {
   "cell_type": "code",
   "execution_count": null,
   "metadata": {},
   "outputs": [],
   "source": [
    "dataset.info()"
   ]
  },
  {
   "attachments": {},
   "cell_type": "markdown",
   "metadata": {},
   "source": [
    "<p>Based on the information above, we don't need the first two columns, and the last 3 columns</p>"
   ]
  },
  {
   "attachments": {},
   "cell_type": "markdown",
   "metadata": {},
   "source": [
    "#### 3.2 Drop The First Two Column"
   ]
  },
  {
   "cell_type": "code",
   "execution_count": null,
   "metadata": {},
   "outputs": [],
   "source": [
    "dataset = dataset.drop(columns=['created_at', 'Date', 'Unnamed: 11', 'Unnamed: 12', 'Unnamed: 13',])"
   ]
  },
  {
   "attachments": {},
   "cell_type": "markdown",
   "metadata": {},
   "source": [
    "#### 3.2 Check for Missing (Null) Values"
   ]
  },
  {
   "cell_type": "code",
   "execution_count": null,
   "metadata": {},
   "outputs": [],
   "source": [
    "null_values = dataset.isnull()\n",
    "null_index = null_values.stack()[null_values.stack() == True].index.tolist()\n",
    "\n",
    "print(null_values.sum())\n",
    "print(\"\\nIndex: \")\n",
    "for index in null_index:\n",
    "    print(index[0], end = \", \")"
   ]
  },
  {
   "attachments": {},
   "cell_type": "markdown",
   "metadata": {},
   "source": [
    "There are 90 rows that have missing values followed by its index, due to the size of the data, it might be better to drop it altogether rather than to replace it with some values."
   ]
  },
  {
   "cell_type": "code",
   "execution_count": null,
   "metadata": {},
   "outputs": [],
   "source": [
    "dataset = dataset.dropna(how='any', subset=None, inplace=False)"
   ]
  },
  {
   "cell_type": "code",
   "execution_count": null,
   "metadata": {},
   "outputs": [],
   "source": [
    "# Change the column name of the dataframe above\n",
    "\n",
    "dataset.rename(columns={'Temperature (C)': 'temperature_c', \n",
    "                        'Turbidity (NTU)': 'turbidity_ntu',\n",
    "                        'Dissolved Oxygen(g/ml)': 'dissolved_oxygen_g_ml',\n",
    "                        'PH': 'pH',\n",
    "                        'Ammonia(g/ml)': 'ammonia_g_ml',\n",
    "                        'Nitrate(g/ml)': 'nitrate_g_ml',\n",
    "                        'Population': 'population',\n",
    "                        'Fish_Length (cm)': 'fish_length_cm',\n",
    "                        'Fish_Weight (g)': 'fish_weight_g',\n",
    "                        }, inplace=True)"
   ]
  },
  {
   "cell_type": "code",
   "execution_count": null,
   "metadata": {},
   "outputs": [],
   "source": [
    "dataset.head()"
   ]
  },
  {
   "cell_type": "code",
   "execution_count": null,
   "metadata": {},
   "outputs": [],
   "source": []
  }
 ],
 "metadata": {
  "kernelspec": {
   "display_name": "Python 3",
   "language": "python",
   "name": "python3"
  },
  "language_info": {
   "codemirror_mode": {
    "name": "ipython",
    "version": 3
   },
   "file_extension": ".py",
   "mimetype": "text/x-python",
   "name": "python",
   "nbconvert_exporter": "python",
   "pygments_lexer": "ipython3",
   "version": "3.10.10"
  },
  "orig_nbformat": 4
 },
 "nbformat": 4,
 "nbformat_minor": 2
}
