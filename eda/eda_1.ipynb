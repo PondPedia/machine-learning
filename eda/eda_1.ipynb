{
 "cells": [
  {
   "attachments": {},
   "cell_type": "markdown",
   "metadata": {},
   "source": [
    "# Sensor Based Aquaponics Fish Pond Datasets\n",
    "\n"
   ]
  },
  {
   "attachments": {},
   "cell_type": "markdown",
   "metadata": {},
   "source": [
    "### 1. Business Problem"
   ]
  },
  {
   "attachments": {},
   "cell_type": "markdown",
   "metadata": {},
   "source": [
    "#### 1.1 Introduction"
   ]
  },
  {
   "attachments": {},
   "cell_type": "markdown",
   "metadata": {},
   "source": [
    "<p>The aquaculture industry in Indonesia is a vital source of income for many small-scale farmers, but they often lack knowledge and resources to help them. What are the key factors that affect fish growth and health in the freshwater aquaculture system one might ask? Someone said there are many factors that affect the growth of fish, including feed and water quality. Water quality impacts on fish growth rate, feed consumption, and their general wellbeing.</p> \n",
    "<p>Farmers’ ignorance of how to manage pond water properly has resulted to the death of fishes. Therefore, performing exploratory data analysis (EDA) on the aquaculture dataset is essential for improving the health and growth of fish in the freshwater aquaculture system. By identifying the key factors that affect fish growth and health, farmers can take steps to manage their ponds more effectively and improve the success of their aquaculture operation.</p>"
   ]
  },
  {
   "attachments": {},
   "cell_type": "markdown",
   "metadata": {},
   "source": [
    "#### 1.2 Sources/Useful Links"
   ]
  },
  {
   "attachments": {},
   "cell_type": "markdown",
   "metadata": {},
   "source": [
    "Some Useful Links:\n",
    "- https://www.sciencedirect.com/science/article/pii/S2352340922005972\n",
    "- https://journals.plos.org/plosone/article?id=10.1371/journal.pone.0256380\n",
    "- Coming Soon"
   ]
  },
  {
   "attachments": {},
   "cell_type": "markdown",
   "metadata": {},
   "source": [
    "#### 1.3 Business Objectives and Constraints"
   ]
  },
  {
   "attachments": {},
   "cell_type": "markdown",
   "metadata": {},
   "source": [
    "- May bias to certain Catfish\n",
    "- Coming Soon"
   ]
  },
  {
   "attachments": {},
   "cell_type": "markdown",
   "metadata": {},
   "source": [
    "### 2. Machine Learning Problem"
   ]
  },
  {
   "attachments": {},
   "cell_type": "markdown",
   "metadata": {},
   "source": [
    "#### 2.1 Data Overview"
   ]
  },
  {
   "attachments": {},
   "cell_type": "markdown",
   "metadata": {},
   "source": [
    "The dataset contains the date and time the data were collected, the entry id of each data from 1 to n. Then the next six columns contain the IoT water quality parameters (Temperature, pH, Dissolved Oxygen, Ammonia, Turbidity, Nitrate) followed by the last two (Length, Width) columns were manually measured with random sampling.\n",
    "\n",
    "- <b>Temperature</b>:\n",
    "<p></p>\n",
    "\n",
    "- <b>pH</b>:\n",
    "<p></p>\n",
    "\n",
    "- <b>Dissolved Oxygen</b>:\n",
    "<p></p>\n",
    "\n",
    "- <b>Ammomia</b>:\n",
    "Ammonia accumulates in fish ponds due to the breakdown of the protein rich\n",
    "fish feeds, ...\n",
    "\n",
    "- <b>Turbidity</b>:\n",
    "<p></p>\n",
    "\n",
    "- <b>Nitrate</b>:\n",
    "<p></p>\n",
    "\n",
    "Read more about the dataset (https://www.sciencedirect.com/science/article/pii/S2352340922005972)"
   ]
  },
  {
   "attachments": {},
   "cell_type": "markdown",
   "metadata": {},
   "source": [
    "#### 2.2 Type of Machine Learning Task"
   ]
  },
  {
   "attachments": {},
   "cell_type": "markdown",
   "metadata": {},
   "source": [
    "<p>It is a Regression and Forecasting problem</p>"
   ]
  },
  {
   "attachments": {},
   "cell_type": "markdown",
   "metadata": {},
   "source": [
    "#### 2.3 Performance Metric"
   ]
  },
  {
   "attachments": {},
   "cell_type": "markdown",
   "metadata": {},
   "source": [
    "Metrics(s):\n",
    "- Mean Squared Error (MSE)\n",
    "- Mean Absolute Error (MAE)"
   ]
  },
  {
   "attachments": {},
   "cell_type": "markdown",
   "metadata": {},
   "source": [
    "### 3. Exploratory Data Analysis"
   ]
  },
  {
   "attachments": {},
   "cell_type": "markdown",
   "metadata": {},
   "source": [
    "#### 3.1 Basic Information About Dataset"
   ]
  },
  {
   "cell_type": "code",
   "execution_count": 20,
   "metadata": {},
   "outputs": [],
   "source": [
    "\"\"\"\n",
    "    Importing The Neccessary Libraries\n",
    "\"\"\"\n",
    "\n",
    "import warnings\n",
    "warnings.filterwarnings(\"ignore\")\n",
    "import numpy as np\n",
    "import pandas as pd\n",
    "import matplotlib.pyplot as plt\n",
    "import seaborn as sns"
   ]
  },
  {
   "cell_type": "code",
   "execution_count": 21,
   "metadata": {},
   "outputs": [
    {
     "data": {
      "text/html": [
       "<div>\n",
       "<style scoped>\n",
       "    .dataframe tbody tr th:only-of-type {\n",
       "        vertical-align: middle;\n",
       "    }\n",
       "\n",
       "    .dataframe tbody tr th {\n",
       "        vertical-align: top;\n",
       "    }\n",
       "\n",
       "    .dataframe thead th {\n",
       "        text-align: right;\n",
       "    }\n",
       "</style>\n",
       "<table border=\"1\" class=\"dataframe\">\n",
       "  <thead>\n",
       "    <tr style=\"text-align: right;\">\n",
       "      <th></th>\n",
       "      <th>created_at</th>\n",
       "      <th>entry_id</th>\n",
       "      <th>Temperature (C)</th>\n",
       "      <th>Turbidity (NTU)</th>\n",
       "      <th>Dissolved Oxygen(g/ml)</th>\n",
       "      <th>PH</th>\n",
       "      <th>Ammonia(g/ml)</th>\n",
       "      <th>Nitrate(g/ml)</th>\n",
       "      <th>Population</th>\n",
       "      <th>Fish_Length (cm)</th>\n",
       "      <th>Fish_Weight (g)</th>\n",
       "    </tr>\n",
       "  </thead>\n",
       "  <tbody>\n",
       "    <tr>\n",
       "      <th>0</th>\n",
       "      <td>2021-06-19 00:00:05 CET</td>\n",
       "      <td>1889</td>\n",
       "      <td>24.8750</td>\n",
       "      <td>100</td>\n",
       "      <td>4.505</td>\n",
       "      <td>8.43365</td>\n",
       "      <td>0.38</td>\n",
       "      <td>193</td>\n",
       "      <td>50</td>\n",
       "      <td>6.96</td>\n",
       "      <td>3.36</td>\n",
       "    </tr>\n",
       "    <tr>\n",
       "      <th>1</th>\n",
       "      <td>2021-06-19 00:01:02 CET</td>\n",
       "      <td>1890</td>\n",
       "      <td>24.9375</td>\n",
       "      <td>100</td>\n",
       "      <td>6.601</td>\n",
       "      <td>8.43818</td>\n",
       "      <td>0.38</td>\n",
       "      <td>194</td>\n",
       "      <td>50</td>\n",
       "      <td>6.96</td>\n",
       "      <td>3.36</td>\n",
       "    </tr>\n",
       "    <tr>\n",
       "      <th>2</th>\n",
       "      <td>2021-06-19 00:01:22 CET</td>\n",
       "      <td>1891</td>\n",
       "      <td>24.8750</td>\n",
       "      <td>100</td>\n",
       "      <td>15.797</td>\n",
       "      <td>8.42457</td>\n",
       "      <td>0.38</td>\n",
       "      <td>192</td>\n",
       "      <td>50</td>\n",
       "      <td>6.96</td>\n",
       "      <td>3.36</td>\n",
       "    </tr>\n",
       "    <tr>\n",
       "      <th>3</th>\n",
       "      <td>2021-06-19 00:01:44 CET</td>\n",
       "      <td>1892</td>\n",
       "      <td>24.9375</td>\n",
       "      <td>100</td>\n",
       "      <td>5.046</td>\n",
       "      <td>8.43365</td>\n",
       "      <td>0.38</td>\n",
       "      <td>193</td>\n",
       "      <td>50</td>\n",
       "      <td>6.96</td>\n",
       "      <td>3.36</td>\n",
       "    </tr>\n",
       "    <tr>\n",
       "      <th>4</th>\n",
       "      <td>2021-06-19 00:02:07 CET</td>\n",
       "      <td>1893</td>\n",
       "      <td>24.9375</td>\n",
       "      <td>100</td>\n",
       "      <td>38.407</td>\n",
       "      <td>8.40641</td>\n",
       "      <td>0.38</td>\n",
       "      <td>192</td>\n",
       "      <td>50</td>\n",
       "      <td>6.96</td>\n",
       "      <td>3.36</td>\n",
       "    </tr>\n",
       "  </tbody>\n",
       "</table>\n",
       "</div>"
      ],
      "text/plain": [
       "                created_at  entry_id  Temperature (C)  Turbidity (NTU)   \n",
       "0  2021-06-19 00:00:05 CET      1889          24.8750              100  \\\n",
       "1  2021-06-19 00:01:02 CET      1890          24.9375              100   \n",
       "2  2021-06-19 00:01:22 CET      1891          24.8750              100   \n",
       "3  2021-06-19 00:01:44 CET      1892          24.9375              100   \n",
       "4  2021-06-19 00:02:07 CET      1893          24.9375              100   \n",
       "\n",
       "   Dissolved Oxygen(g/ml)       PH  Ammonia(g/ml)  Nitrate(g/ml)  Population   \n",
       "0                   4.505  8.43365           0.38            193          50  \\\n",
       "1                   6.601  8.43818           0.38            194          50   \n",
       "2                  15.797  8.42457           0.38            192          50   \n",
       "3                   5.046  8.43365           0.38            193          50   \n",
       "4                  38.407  8.40641           0.38            192          50   \n",
       "\n",
       "   Fish_Length (cm)  Fish_Weight (g)  \n",
       "0              6.96             3.36  \n",
       "1              6.96             3.36  \n",
       "2              6.96             3.36  \n",
       "3              6.96             3.36  \n",
       "4              6.96             3.36  "
      ]
     },
     "execution_count": 21,
     "metadata": {},
     "output_type": "execute_result"
    }
   ],
   "source": [
    "dataset = pd.read_csv('../dataset/raw/dataset.csv')\n",
    "\n",
    "dataset.head()"
   ]
  },
  {
   "cell_type": "code",
   "execution_count": 22,
   "metadata": {},
   "outputs": [
    {
     "data": {
      "text/html": [
       "<div>\n",
       "<style scoped>\n",
       "    .dataframe tbody tr th:only-of-type {\n",
       "        vertical-align: middle;\n",
       "    }\n",
       "\n",
       "    .dataframe tbody tr th {\n",
       "        vertical-align: top;\n",
       "    }\n",
       "\n",
       "    .dataframe thead th {\n",
       "        text-align: right;\n",
       "    }\n",
       "</style>\n",
       "<table border=\"1\" class=\"dataframe\">\n",
       "  <thead>\n",
       "    <tr style=\"text-align: right;\">\n",
       "      <th></th>\n",
       "      <th>count</th>\n",
       "      <th>mean</th>\n",
       "      <th>std</th>\n",
       "      <th>min</th>\n",
       "      <th>25%</th>\n",
       "      <th>50%</th>\n",
       "      <th>75%</th>\n",
       "      <th>max</th>\n",
       "    </tr>\n",
       "  </thead>\n",
       "  <tbody>\n",
       "    <tr>\n",
       "      <th>entry_id</th>\n",
       "      <td>172249.0</td>\n",
       "      <td>1.487257e+05</td>\n",
       "      <td>8.541878e+04</td>\n",
       "      <td>1889.00000</td>\n",
       "      <td>62717.00000</td>\n",
       "      <td>147763.00000</td>\n",
       "      <td>226310.00000</td>\n",
       "      <td>2.693720e+05</td>\n",
       "    </tr>\n",
       "    <tr>\n",
       "      <th>Temperature (C)</th>\n",
       "      <td>172249.0</td>\n",
       "      <td>2.498285e+01</td>\n",
       "      <td>9.018905e-01</td>\n",
       "      <td>-127.00000</td>\n",
       "      <td>24.37500</td>\n",
       "      <td>24.93750</td>\n",
       "      <td>25.50000</td>\n",
       "      <td>2.781250e+01</td>\n",
       "    </tr>\n",
       "    <tr>\n",
       "      <th>Turbidity (NTU)</th>\n",
       "      <td>172249.0</td>\n",
       "      <td>9.097466e+01</td>\n",
       "      <td>2.109991e+01</td>\n",
       "      <td>1.00000</td>\n",
       "      <td>94.00000</td>\n",
       "      <td>100.00000</td>\n",
       "      <td>100.00000</td>\n",
       "      <td>1.000000e+02</td>\n",
       "    </tr>\n",
       "    <tr>\n",
       "      <th>Dissolved Oxygen(g/ml)</th>\n",
       "      <td>172249.0</td>\n",
       "      <td>9.708503e+00</td>\n",
       "      <td>1.097196e+01</td>\n",
       "      <td>0.00700</td>\n",
       "      <td>3.20000</td>\n",
       "      <td>3.28300</td>\n",
       "      <td>11.73900</td>\n",
       "      <td>4.104600e+01</td>\n",
       "    </tr>\n",
       "    <tr>\n",
       "      <th>PH</th>\n",
       "      <td>172249.0</td>\n",
       "      <td>3.971857e+00</td>\n",
       "      <td>3.960719e+00</td>\n",
       "      <td>-3.13745</td>\n",
       "      <td>-0.17318</td>\n",
       "      <td>7.09904</td>\n",
       "      <td>7.51667</td>\n",
       "      <td>8.551670e+00</td>\n",
       "    </tr>\n",
       "    <tr>\n",
       "      <th>Ammonia(g/ml)</th>\n",
       "      <td>172159.0</td>\n",
       "      <td>3.112110e+08</td>\n",
       "      <td>1.257809e+10</td>\n",
       "      <td>0.00659</td>\n",
       "      <td>0.56935</td>\n",
       "      <td>8.47056</td>\n",
       "      <td>80.70516</td>\n",
       "      <td>9.965130e+11</td>\n",
       "    </tr>\n",
       "    <tr>\n",
       "      <th>Nitrate(g/ml)</th>\n",
       "      <td>172249.0</td>\n",
       "      <td>7.198914e+02</td>\n",
       "      <td>4.159798e+02</td>\n",
       "      <td>45.00000</td>\n",
       "      <td>189.00000</td>\n",
       "      <td>890.00000</td>\n",
       "      <td>1050.00000</td>\n",
       "      <td>2.224000e+03</td>\n",
       "    </tr>\n",
       "    <tr>\n",
       "      <th>Population</th>\n",
       "      <td>172249.0</td>\n",
       "      <td>5.000000e+01</td>\n",
       "      <td>0.000000e+00</td>\n",
       "      <td>50.00000</td>\n",
       "      <td>50.00000</td>\n",
       "      <td>50.00000</td>\n",
       "      <td>50.00000</td>\n",
       "      <td>5.000000e+01</td>\n",
       "    </tr>\n",
       "    <tr>\n",
       "      <th>Fish_Length (cm)</th>\n",
       "      <td>172249.0</td>\n",
       "      <td>2.342878e+01</td>\n",
       "      <td>9.609826e+00</td>\n",
       "      <td>6.96000</td>\n",
       "      <td>14.22000</td>\n",
       "      <td>20.97000</td>\n",
       "      <td>32.54000</td>\n",
       "      <td>3.539000e+01</td>\n",
       "    </tr>\n",
       "    <tr>\n",
       "      <th>Fish_Weight (g)</th>\n",
       "      <td>172249.0</td>\n",
       "      <td>1.664705e+02</td>\n",
       "      <td>1.457527e+02</td>\n",
       "      <td>3.36000</td>\n",
       "      <td>22.89000</td>\n",
       "      <td>65.48000</td>\n",
       "      <td>302.50000</td>\n",
       "      <td>3.946600e+02</td>\n",
       "    </tr>\n",
       "  </tbody>\n",
       "</table>\n",
       "</div>"
      ],
      "text/plain": [
       "                           count          mean           std         min   \n",
       "entry_id                172249.0  1.487257e+05  8.541878e+04  1889.00000  \\\n",
       "Temperature (C)         172249.0  2.498285e+01  9.018905e-01  -127.00000   \n",
       "Turbidity (NTU)         172249.0  9.097466e+01  2.109991e+01     1.00000   \n",
       "Dissolved Oxygen(g/ml)  172249.0  9.708503e+00  1.097196e+01     0.00700   \n",
       "PH                      172249.0  3.971857e+00  3.960719e+00    -3.13745   \n",
       "Ammonia(g/ml)           172159.0  3.112110e+08  1.257809e+10     0.00659   \n",
       "Nitrate(g/ml)           172249.0  7.198914e+02  4.159798e+02    45.00000   \n",
       "Population              172249.0  5.000000e+01  0.000000e+00    50.00000   \n",
       "Fish_Length (cm)        172249.0  2.342878e+01  9.609826e+00     6.96000   \n",
       "Fish_Weight (g)         172249.0  1.664705e+02  1.457527e+02     3.36000   \n",
       "\n",
       "                                25%           50%           75%           max  \n",
       "entry_id                62717.00000  147763.00000  226310.00000  2.693720e+05  \n",
       "Temperature (C)            24.37500      24.93750      25.50000  2.781250e+01  \n",
       "Turbidity (NTU)            94.00000     100.00000     100.00000  1.000000e+02  \n",
       "Dissolved Oxygen(g/ml)      3.20000       3.28300      11.73900  4.104600e+01  \n",
       "PH                         -0.17318       7.09904       7.51667  8.551670e+00  \n",
       "Ammonia(g/ml)               0.56935       8.47056      80.70516  9.965130e+11  \n",
       "Nitrate(g/ml)             189.00000     890.00000    1050.00000  2.224000e+03  \n",
       "Population                 50.00000      50.00000      50.00000  5.000000e+01  \n",
       "Fish_Length (cm)           14.22000      20.97000      32.54000  3.539000e+01  \n",
       "Fish_Weight (g)            22.89000      65.48000     302.50000  3.946600e+02  "
      ]
     },
     "execution_count": 22,
     "metadata": {},
     "output_type": "execute_result"
    }
   ],
   "source": [
    "dataset.describe().T"
   ]
  },
  {
   "cell_type": "code",
   "execution_count": 23,
   "metadata": {},
   "outputs": [
    {
     "name": "stdout",
     "output_type": "stream",
     "text": [
      "<class 'pandas.core.frame.DataFrame'>\n",
      "RangeIndex: 172249 entries, 0 to 172248\n",
      "Data columns (total 11 columns):\n",
      " #   Column                  Non-Null Count   Dtype  \n",
      "---  ------                  --------------   -----  \n",
      " 0   created_at              172249 non-null  object \n",
      " 1   entry_id                172249 non-null  int64  \n",
      " 2   Temperature (C)         172249 non-null  float64\n",
      " 3   Turbidity (NTU)         172249 non-null  int64  \n",
      " 4   Dissolved Oxygen(g/ml)  172249 non-null  float64\n",
      " 5   PH                      172249 non-null  float64\n",
      " 6   Ammonia(g/ml)           172159 non-null  float64\n",
      " 7   Nitrate(g/ml)           172249 non-null  int64  \n",
      " 8   Population              172249 non-null  int64  \n",
      " 9   Fish_Length (cm)        172249 non-null  float64\n",
      " 10  Fish_Weight (g)         172249 non-null  float64\n",
      "dtypes: float64(6), int64(4), object(1)\n",
      "memory usage: 14.5+ MB\n"
     ]
    }
   ],
   "source": [
    "dataset.info()"
   ]
  },
  {
   "attachments": {},
   "cell_type": "markdown",
   "metadata": {},
   "source": [
    "<p>Based on the information above, we don't need the first two columns</p>"
   ]
  },
  {
   "attachments": {},
   "cell_type": "markdown",
   "metadata": {},
   "source": [
    "#### 3.2 Drop The First Two Column"
   ]
  },
  {
   "cell_type": "code",
   "execution_count": 24,
   "metadata": {},
   "outputs": [],
   "source": [
    "dataset = dataset.drop(columns=['created_at', 'entry_id'])"
   ]
  },
  {
   "attachments": {},
   "cell_type": "markdown",
   "metadata": {},
   "source": [
    "#### 3.2 Check for Missing (Null) Values"
   ]
  },
  {
   "cell_type": "code",
   "execution_count": 25,
   "metadata": {},
   "outputs": [
    {
     "name": "stdout",
     "output_type": "stream",
     "text": [
      "Temperature (C)            0\n",
      "Turbidity (NTU)            0\n",
      "Dissolved Oxygen(g/ml)     0\n",
      "PH                         0\n",
      "Ammonia(g/ml)             90\n",
      "Nitrate(g/ml)              0\n",
      "Population                 0\n",
      "Fish_Length (cm)           0\n",
      "Fish_Weight (g)            0\n",
      "dtype: int64\n",
      "\n",
      "Index: \n",
      "12388, 13842, 13861, 17088, 17108, 17253, 18202, 18277, 18386, 19802, 20005, 20037, 20090, 20127, 20196, 20201, 20241, 20276, 20718, 20721, 22877, 23321, 23341, 23560, 23649, 24030, 24056, 24115, 24116, 24165, 24364, 24660, 27883, 27966, 28121, 28186, 28598, 28747, 28750, 30285, 30286, 30393, 30737, 31031, 31062, 31079, 31993, 32527, 32809, 32813, 32822, 32910, 34865, 35267, 35775, 36919, 37092, 37143, 37208, 40240, 40513, 40670, 40674, 45373, 45414, 45642, 46037, 46292, 46342, 46447, 47266, 150702, 157385, 157397, 157516, 157680, 157833, 157871, 157955, 157963, 158020, 160425, 160635, 160636, 160729, 160772, 164077, 164398, 171754, 171756, "
     ]
    }
   ],
   "source": [
    "null_values = dataset.isnull()\n",
    "null_index = null_values.stack()[null_values.stack() == True].index.tolist()\n",
    "\n",
    "print(null_values.sum())\n",
    "print(\"\\nIndex: \")\n",
    "for index in null_index:\n",
    "    print(index[0], end = \", \")"
   ]
  },
  {
   "attachments": {},
   "cell_type": "markdown",
   "metadata": {},
   "source": [
    "There are 90 rows that have missing values followed by its index, due to the size of the data, it might be better to drop it altogether rather than to replace it with some values."
   ]
  },
  {
   "cell_type": "code",
   "execution_count": 26,
   "metadata": {},
   "outputs": [],
   "source": [
    "dataset = dataset.dropna(how='any', subset=None, inplace=False)"
   ]
  },
  {
   "cell_type": "code",
   "execution_count": 27,
   "metadata": {},
   "outputs": [
    {
     "data": {
      "text/plain": [
       "Temperature (C)           0\n",
       "Turbidity (NTU)           0\n",
       "Dissolved Oxygen(g/ml)    0\n",
       "PH                        0\n",
       "Ammonia(g/ml)             0\n",
       "Nitrate(g/ml)             0\n",
       "Population                0\n",
       "Fish_Length (cm)          0\n",
       "Fish_Weight (g)           0\n",
       "dtype: int64"
      ]
     },
     "execution_count": 27,
     "metadata": {},
     "output_type": "execute_result"
    }
   ],
   "source": [
    "dataset.isnull().sum()"
   ]
  }
 ],
 "metadata": {
  "kernelspec": {
   "display_name": "Python 3",
   "language": "python",
   "name": "python3"
  },
  "language_info": {
   "codemirror_mode": {
    "name": "ipython",
    "version": 3
   },
   "file_extension": ".py",
   "mimetype": "text/x-python",
   "name": "python",
   "nbconvert_exporter": "python",
   "pygments_lexer": "ipython3",
   "version": "3.10.10"
  },
  "orig_nbformat": 4
 },
 "nbformat": 4,
 "nbformat_minor": 2
}
