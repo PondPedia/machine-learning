{
 "cells": [
  {
   "cell_type": "code",
   "execution_count": null,
   "metadata": {},
   "outputs": [],
   "source": [
    "import pandas as pd\n",
    "from utils.lstm_model import LSTMModel\n"
   ]
  },
  {
   "cell_type": "code",
   "execution_count": null,
   "metadata": {},
   "outputs": [],
   "source": [
    "dataset = pd.read_csv('/home/archsus/Documents/pond_pedia/dataset/processed/IoTPond1/6_hours_IoTPond1.csv', index_col=0, parse_dates=True)\n",
    "test_dataset = pd.read_csv('/home/archsus/Documents/pond_pedia/dataset/processed/IoTPond1/6_hours_IoTPond1.csv', index_col=0, parse_dates=True)"
   ]
  },
  {
   "cell_type": "code",
   "execution_count": null,
   "metadata": {},
   "outputs": [],
   "source": [
    "friza: LSTMModel = LSTMModel()\n",
    "\n",
    "# Model Parameters\n",
    "NUM_OF_LAYERS: int = 2\n",
    "NUM_OF_NEURONS_FOR_EACH_LAYER: tuple = (64, 32)\n",
    "DROPOUT_REGULARIZATION= (0.2, 0.2)\n",
    "ACTIVATION_FUNCTION = 'relu'\n",
    "LOSS_FUNCTION = 'mse'\n",
    "OPTIMIZER = 'adam'\n",
    "EPOCHS: int = 100\n",
    "\n",
    "# Dataset Parameters\n",
    "TRAIN_SIZE = 0.8\n",
    "BATCH_SIZE: int = 32\n",
    "BUFFER_SIZE: int = 100\n",
    "INPUT_WIDTH: int = 6\n",
    "COLUMNS: int = len(dataset.columns)"
   ]
  },
  {
   "cell_type": "code",
   "execution_count": null,
   "metadata": {},
   "outputs": [],
   "source": [
    "friza.num_layers = NUM_OF_LAYERS\n",
    "friza.num_neurons = NUM_OF_NEURONS_FOR_EACH_LAYER\n",
    "friza.dropout_regularization = DROPOUT_REGULARIZATION\n",
    "friza.hyperparameters = (ACTIVATION_FUNCTION, LOSS_FUNCTION, OPTIMIZER, BATCH_SIZE, EPOCHS, BUFFER_SIZE, INPUT_WIDTH, COLUMNS) \n",
    "friza.dataset = (dataset, TRAIN_SIZE)"
   ]
  },
  {
   "cell_type": "code",
   "execution_count": null,
   "metadata": {},
   "outputs": [],
   "source": [
    "friza.model()\n",
    "friza.inspect() # TRUE, TRUE, TRUE\n",
    "friza.train()\n",
    "friza.predict(test_dataset, True)"
   ]
  },
  {
   "cell_type": "code",
   "execution_count": null,
   "metadata": {},
   "outputs": [],
   "source": []
  }
 ],
 "metadata": {
  "kernelspec": {
   "display_name": "Python 3",
   "language": "python",
   "name": "python3"
  },
  "language_info": {
   "codemirror_mode": {
    "name": "ipython",
    "version": 3
   },
   "file_extension": ".py",
   "mimetype": "text/x-python",
   "name": "python",
   "nbconvert_exporter": "python",
   "pygments_lexer": "ipython3",
   "version": "3.7.16"
  },
  "orig_nbformat": 4
 },
 "nbformat": 4,
 "nbformat_minor": 2
}
