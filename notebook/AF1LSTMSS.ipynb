{
 "cells": [
  {
   "attachments": {},
   "cell_type": "markdown",
   "metadata": {},
   "source": [
    "# Import Libraries"
   ]
  },
  {
   "cell_type": "code",
   "execution_count": null,
   "metadata": {},
   "outputs": [],
   "source": [
    "import os\n",
    "import pandas as pd\n",
    "from utils.lstm_model_ss import LSTMModel"
   ]
  },
  {
   "attachments": {},
   "cell_type": "markdown",
   "metadata": {},
   "source": [
    "# Import The Dataset"
   ]
  },
  {
   "cell_type": "code",
   "execution_count": null,
   "metadata": {},
   "outputs": [],
   "source": [
    "df_list = []\n",
    "\n",
    "for i in range(1, 4):\n",
    "    df = pd.read_csv(\n",
    "        f\"./dataset/nprepros_pond{i}_linear.csv\", index_col=0, parse_dates=True\n",
    "    )\n",
    "    df_list.append(df)\n",
    "\n",
    "dataset = pd.concat(df_list)"
   ]
  },
  {
   "cell_type": "code",
   "execution_count": null,
   "metadata": {},
   "outputs": [],
   "source": [
    "# dataset = pd.read_csv(data_path, index_col=0, parse_dates=True)\n",
    "test_dataset = pd.read_csv(\n",
    "    \"./dataset/nprepros_pond4_linear.csv\", index_col=0, parse_dates=True\n",
    ")"
   ]
  },
  {
   "attachments": {},
   "cell_type": "markdown",
   "metadata": {},
   "source": [
    "# Hyperparameters"
   ]
  },
  {
   "cell_type": "code",
   "execution_count": null,
   "metadata": {},
   "outputs": [],
   "source": [
    "# Model Parameters\n",
    "NUM_OF_LAYERS: int = 2\n",
    "NUM_OF_NEURONS_FOR_EACH_LAYER: tuple = (64, 32)\n",
    "DROPOUT_REGULARIZATION: tuple = (0.2, 0.2)\n",
    "ACTIVATION_FUNCTION = \"tanh\"\n",
    "OPTIMIZER = \"adam\"\n",
    "METRICS: tuple = ('mae', 'mean_squared_error', 'accuracy') # loss, metrics[0], metrics[1]\n",
    "SHUFFLE: bool = True\n",
    "EPOCHS: int = 50\n",
    "\n",
    "# Dataset Parameters\n",
    "DATASET = dataset.drop(dataset.columns[-2:], axis=1)\n",
    "TEST_DATASET = test_dataset.drop(test_dataset.columns[-2:], axis=1)\n",
    "TRAIN_SIZE: float = 0.8\n",
    "BATCH_SIZE: int = 32\n",
    "BUFFER_SIZE: int = len(DATASET)\n",
    "INPUT_WIDTH: int = 1"
   ]
  },
  {
   "attachments": {},
   "cell_type": "markdown",
   "metadata": {},
   "source": [
    "# LSTM Class Instantiation"
   ]
  },
  {
   "cell_type": "code",
   "execution_count": null,
   "metadata": {},
   "outputs": [],
   "source": [
    "astrid: LSTMModel = LSTMModel()\n",
    "\n",
    "astrid.num_layers = NUM_OF_LAYERS\n",
    "astrid.num_neurons = NUM_OF_NEURONS_FOR_EACH_LAYER\n",
    "astrid.dropout_regularization = DROPOUT_REGULARIZATION\n",
    "astrid.hyperparameters = (\n",
    "    ACTIVATION_FUNCTION,\n",
    "    METRICS,\n",
    "    OPTIMIZER,\n",
    "    BATCH_SIZE,\n",
    "    EPOCHS,\n",
    "    BUFFER_SIZE,\n",
    "    INPUT_WIDTH,\n",
    "    len(DATASET.columns),\n",
    ")\n",
    "astrid.dataset = (DATASET, TRAIN_SIZE, SHUFFLE)"
   ]
  },
  {
   "cell_type": "code",
   "execution_count": null,
   "metadata": {},
   "outputs": [],
   "source": [
    "astrid.model()\n",
    "astrid.inspect()  # TRUE, TRUE, TRUE\n",
    "astrid.train()\n",
    "astrid.plot_history()"
   ]
  },
  {
   "cell_type": "code",
   "execution_count": null,
   "metadata": {},
   "outputs": [],
   "source": [
    "astrid.predict(TEST_DATASET)"
   ]
  },
  {
   "cell_type": "code",
   "execution_count": null,
   "metadata": {},
   "outputs": [],
   "source": [
    "model_dir = os.listdir()\n",
    "\n",
    "if 'models' not in model_dir:\n",
    "    os.mkdir('models')\n",
    "\n",
    "astrid.save('models/final_model.h5', 'h5', scaler=True)"
   ]
  }
 ],
 "metadata": {
  "kernelspec": {
   "display_name": "Python 3",
   "language": "python",
   "name": "python3"
  },
  "language_info": {
   "codemirror_mode": {
    "name": "ipython",
    "version": 3
   },
   "file_extension": ".py",
   "mimetype": "text/x-python",
   "name": "python",
   "nbconvert_exporter": "python",
   "pygments_lexer": "ipython3",
   "version": "3.11.3"
  },
  "orig_nbformat": 4
 },
 "nbformat": 4,
 "nbformat_minor": 2
}
