{
 "cells": [
  {
   "cell_type": "code",
   "execution_count": null,
   "metadata": {},
   "outputs": [],
   "source": [
    "import pandas as pd\n",
    "from utils.lstm_model import LSTMModel\n",
    "\n",
    "import logging\n",
    "\n",
    "logging.getLogger(\"tensorflow\").setLevel(logging.ERROR)"
   ]
  },
  {
   "cell_type": "code",
   "execution_count": null,
   "metadata": {},
   "outputs": [],
   "source": [
    "df_list = []\n",
    "\n",
    "for i in range(1, 3):\n",
    "    df = pd.read_csv(\n",
    "        f\"./dataset/Fprepros_pond{i}_linear.csv\", index_col=0, parse_dates=True\n",
    "    )\n",
    "    df_list.append(df)\n",
    "\n",
    "dataset = pd.concat(df_list)"
   ]
  },
  {
   "cell_type": "code",
   "execution_count": null,
   "metadata": {},
   "outputs": [],
   "source": [
    "# dataset = pd.read_csv(data_path, index_col=0, parse_dates=True)\n",
    "test_dataset = pd.read_csv(\n",
    "    \"./dataset/Fprepros_pond3_linear.csv\", index_col=0, parse_dates=True\n",
    ")\n",
    "\n",
    "dataset = dataset.drop(dataset.columns[-2:], axis=1)\n",
    "test_dataset = test_dataset.drop(test_dataset.columns[-2:], axis=1)"
   ]
  },
  {
   "cell_type": "code",
   "execution_count": null,
   "metadata": {},
   "outputs": [],
   "source": [
    "friza: LSTMModel = LSTMModel()\n",
    "\n",
    "# Model Parameters\n",
    "NUM_OF_LAYERS: int = 2\n",
    "NUM_OF_NEURONS_FOR_EACH_LAYER: tuple = (64, 32)\n",
    "DROPOUT_REGULARIZATION: tuple = (0.2, 0.2)\n",
    "ACTIVATION_FUNCTION = \"tanh\"\n",
    "METRICS: tuple = ('mae', 'mean_squared_error', 'accuracy')\n",
    "OPTIMIZER = \"adam\"\n",
    "EPOCHS: int = 10\n",
    "\n",
    "# Dataset Parameters\n",
    "TRAIN_SIZE = 0.8\n",
    "BATCH_SIZE: int = 32\n",
    "BUFFER_SIZE: int = len(dataset)\n",
    "INPUT_WIDTH: int = 8\n",
    "COLUMNS: int = len(dataset.columns)"
   ]
  },
  {
   "cell_type": "code",
   "execution_count": null,
   "metadata": {},
   "outputs": [],
   "source": [
    "len(dataset)"
   ]
  },
  {
   "cell_type": "code",
   "execution_count": null,
   "metadata": {},
   "outputs": [],
   "source": [
    "friza.num_layers = NUM_OF_LAYERS\n",
    "friza.num_neurons = NUM_OF_NEURONS_FOR_EACH_LAYER\n",
    "friza.dropout_regularization = DROPOUT_REGULARIZATION\n",
    "friza.hyperparameters = (\n",
    "    ACTIVATION_FUNCTION,\n",
    "    METRICS,\n",
    "    OPTIMIZER,\n",
    "    BATCH_SIZE,\n",
    "    EPOCHS,\n",
    "    BUFFER_SIZE,\n",
    "    INPUT_WIDTH,\n",
    "    COLUMNS,\n",
    ")\n",
    "friza.dataset = (dataset, TRAIN_SIZE)"
   ]
  },
  {
   "cell_type": "code",
   "execution_count": null,
   "metadata": {},
   "outputs": [],
   "source": [
    "friza.model()\n",
    "friza.inspect()  # TRUE, TRUE, TRUE\n",
    "friza.train()\n",
    "friza.plot_history()"
   ]
  },
  {
   "cell_type": "code",
   "execution_count": null,
   "metadata": {},
   "outputs": [],
   "source": [
    "friza.predict(test_dataset)"
   ]
  }
 ],
 "metadata": {
  "kernelspec": {
   "display_name": "Python 3",
   "language": "python",
   "name": "python3"
  },
  "language_info": {
   "codemirror_mode": {
    "name": "ipython",
    "version": 3
   },
   "file_extension": ".py",
   "mimetype": "text/x-python",
   "name": "python",
   "nbconvert_exporter": "python",
   "pygments_lexer": "ipython3",
   "version": "3.7.16"
  },
  "orig_nbformat": 4
 },
 "nbformat": 4,
 "nbformat_minor": 2
}
