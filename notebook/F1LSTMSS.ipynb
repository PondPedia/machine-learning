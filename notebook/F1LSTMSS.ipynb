{
 "cells": [
  {
   "attachments": {},
   "cell_type": "markdown",
   "metadata": {},
   "source": [
    "# Import Libraries"
   ]
  },
  {
   "cell_type": "code",
   "execution_count": null,
   "metadata": {},
   "outputs": [],
   "source": [
    "import os\n",
    "import pandas as pd\n",
    "from utils.lstm_model_ss import LSTMModel"
   ]
  },
  {
   "attachments": {},
   "cell_type": "markdown",
   "metadata": {},
   "source": [
    "# Import The Dataset"
   ]
  },
  {
   "attachments": {},
   "cell_type": "markdown",
   "metadata": {},
   "source": [
    "## Training Set"
   ]
  },
  {
   "cell_type": "code",
   "execution_count": null,
   "metadata": {},
   "outputs": [],
   "source": [
    "df_list = []\n",
    "\n",
    "for i in range(1, 4):\n",
    "    df = pd.read_csv(\n",
    "        f\"./dataset/nprepros_pond{i}_linear.csv\", index_col=0, parse_dates=True\n",
    "    )\n",
    "    df_list.append(df)\n",
    "    \n",
    "dataset = pd.concat(df_list)\n",
    "dataset = dataset.drop(dataset.columns[-2:], axis=1)"
   ]
  },
  {
   "attachments": {},
   "cell_type": "markdown",
   "metadata": {},
   "source": [
    "## Test Set"
   ]
  },
  {
   "cell_type": "code",
   "execution_count": null,
   "metadata": {},
   "outputs": [],
   "source": [
    "test_dataset = pd.read_csv(\n",
    "    \"./dataset/nprepros_pond4_linear.csv\", index_col=0, parse_dates=True\n",
    ")\n",
    "test_dataset = test_dataset.drop(test_dataset.columns[-2:], axis=1)"
   ]
  },
  {
   "attachments": {},
   "cell_type": "markdown",
   "metadata": {},
   "source": [
    "# Hyperparameters"
   ]
  },
  {
   "cell_type": "code",
   "execution_count": null,
   "metadata": {},
   "outputs": [],
   "source": [
    "# Model Parameters\n",
    "NUM_OF_LAYERS: int = 2\n",
    "NUM_OF_NEURONS_FOR_EACH_LAYER: tuple = (64, 32)\n",
    "DROPOUT_REGULARIZATION: tuple = (0.2, 0.2)\n",
    "ACTIVATION_FUNCTION = \"tanh\"\n",
    "OPTIMIZER = \"adam\"\n",
    "METRICS: tuple = ('mae', 'mean_squared_error', 'accuracy') # loss, metrics[0], metrics[1]\n",
    "SHUFFLE: bool = True\n",
    "EPOCHS: int = 10\n",
    "\n",
    "# Dataset Parameters\n",
    "DATASET = dataset\n",
    "TEST_DATASET = test_dataset\n",
    "TRAIN_SIZE: float = 0.9\n",
    "BATCH_SIZE: int = 64\n",
    "BUFFER_SIZE: int = len(DATASET)\n",
    "INPUT_WIDTH: int = 3"
   ]
  },
  {
   "attachments": {},
   "cell_type": "markdown",
   "metadata": {},
   "source": [
    "# LSTM Class Instantiation"
   ]
  },
  {
   "cell_type": "code",
   "execution_count": null,
   "metadata": {},
   "outputs": [],
   "source": [
    "friza: LSTMModel = LSTMModel()\n",
    "\n",
    "friza.num_layers = NUM_OF_LAYERS\n",
    "friza.num_neurons = NUM_OF_NEURONS_FOR_EACH_LAYER\n",
    "friza.dropout_regularization = DROPOUT_REGULARIZATION\n",
    "friza.hyperparameters = (\n",
    "    ACTIVATION_FUNCTION,\n",
    "    METRICS,\n",
    "    OPTIMIZER,\n",
    "    BATCH_SIZE,\n",
    "    EPOCHS,\n",
    "    BUFFER_SIZE,\n",
    "    INPUT_WIDTH,\n",
    "    len(DATASET.columns),\n",
    ")\n",
    "friza.dataset = (DATASET, TRAIN_SIZE, SHUFFLE)"
   ]
  },
  {
   "attachments": {},
   "cell_type": "markdown",
   "metadata": {},
   "source": [
    "# Model"
   ]
  },
  {
   "attachments": {},
   "cell_type": "markdown",
   "metadata": {},
   "source": [
    "## Build & Inspect"
   ]
  },
  {
   "cell_type": "code",
   "execution_count": null,
   "metadata": {},
   "outputs": [],
   "source": [
    "friza.model()\n",
    "friza.inspect()  # TRUE, TRUE, TRUE"
   ]
  },
  {
   "attachments": {},
   "cell_type": "markdown",
   "metadata": {},
   "source": [
    "## Training"
   ]
  },
  {
   "cell_type": "code",
   "execution_count": null,
   "metadata": {},
   "outputs": [],
   "source": [
    "friza.train()\n",
    "friza.plot_history()"
   ]
  },
  {
   "attachments": {},
   "cell_type": "markdown",
   "metadata": {},
   "source": [
    "## Prediction"
   ]
  },
  {
   "cell_type": "code",
   "execution_count": null,
   "metadata": {},
   "outputs": [],
   "source": [
    "friza.predict(TEST_DATASET)"
   ]
  },
  {
   "attachments": {},
   "cell_type": "markdown",
   "metadata": {},
   "source": [
    "## Save The Model"
   ]
  },
  {
   "cell_type": "code",
   "execution_count": null,
   "metadata": {},
   "outputs": [],
   "source": [
    "# model_dir = os.listdir()\n",
    "\n",
    "# if 'models' not in model_dir:\n",
    "#     os.mkdir('models')\n",
    "\n",
    "# friza.save('models/friza_model.h5', 'h5', scaler=True)"
   ]
  }
 ],
 "metadata": {
  "kernelspec": {
   "display_name": "Python 3",
   "language": "python",
   "name": "python3"
  },
  "language_info": {
   "codemirror_mode": {
    "name": "ipython",
    "version": 3
   },
   "file_extension": ".py",
   "mimetype": "text/x-python",
   "name": "python",
   "nbconvert_exporter": "python",
   "pygments_lexer": "ipython3",
   "version": "3.7.16"
  },
  "orig_nbformat": 4
 },
 "nbformat": 4,
 "nbformat_minor": 2
}
