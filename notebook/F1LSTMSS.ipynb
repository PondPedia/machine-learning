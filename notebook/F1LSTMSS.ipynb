{
 "cells": [
  {
   "attachments": {},
   "cell_type": "markdown",
   "metadata": {},
   "source": [
    "# Import Libraries"
   ]
  },
  {
   "cell_type": "code",
   "execution_count": null,
   "metadata": {},
   "outputs": [],
   "source": [
    "import pandas as pd\n",
    "from utils.lstm_model import LSTMModel"
   ]
  },
  {
   "attachments": {},
   "cell_type": "markdown",
   "metadata": {},
   "source": [
    "# Import The Dataset"
   ]
  },
  {
   "cell_type": "code",
   "execution_count": null,
   "metadata": {},
   "outputs": [],
   "source": [
    "df_list = []\n",
    "\n",
    "for i in range(1, 3):\n",
    "    df = pd.read_csv(\n",
    "        f\"./dataset/Fprepros_pond{i}_linear.csv\", index_col=0, parse_dates=True\n",
    "    )\n",
    "    df_list.append(df)\n",
    "\n",
    "dataset = pd.concat(df_list)"
   ]
  },
  {
   "cell_type": "code",
   "execution_count": null,
   "metadata": {},
   "outputs": [],
   "source": [
    "# dataset = pd.read_csv(data_path, index_col=0, parse_dates=True)\n",
    "test_dataset = pd.read_csv(\n",
    "    \"./dataset/Fprepros_pond3_linear.csv\", index_col=0, parse_dates=True\n",
    ")\n",
    "\n",
    "DATASET = dataset.drop(dataset.columns[-2:], axis=1)\n",
    "TEST_DATASET = test_dataset.drop(test_dataset.columns[-2:], axis=1)"
   ]
  },
  {
   "attachments": {},
   "cell_type": "markdown",
   "metadata": {},
   "source": [
    "# Hyperparameters"
   ]
  },
  {
   "cell_type": "code",
   "execution_count": null,
   "metadata": {},
   "outputs": [],
   "source": [
    "# Model Parameters\n",
    "NUM_OF_LAYERS: int = 2\n",
    "NUM_OF_NEURONS_FOR_EACH_LAYER: tuple = (64, 32)\n",
    "DROPOUT_REGULARIZATION: tuple = (0.2, 0.2)\n",
    "ACTIVATION_FUNCTION = \"tanh\"\n",
    "OPTIMIZER = \"adam\"\n",
    "METRICS: tuple = ('mae', 'mean_squared_error', 'accuracy')\n",
    "SHUFFLE: bool = True\n",
    "EPOCHS: int = 10\n",
    "\n",
    "# Dataset Parameters\n",
    "TRAIN_SIZE: float = 0.8\n",
    "BATCH_SIZE: int = 32\n",
    "BUFFER_SIZE: int = len(DATASET)\n",
    "INPUT_WIDTH: int = 10"
   ]
  },
  {
   "attachments": {},
   "cell_type": "markdown",
   "metadata": {},
   "source": [
    "# LSTM Class Instantiation"
   ]
  },
  {
   "cell_type": "code",
   "execution_count": null,
   "metadata": {},
   "outputs": [],
   "source": [
    "friza: LSTMModel = LSTMModel()\n",
    "\n",
    "friza.num_layers = NUM_OF_LAYERS\n",
    "friza.num_neurons = NUM_OF_NEURONS_FOR_EACH_LAYER\n",
    "friza.dropout_regularization = DROPOUT_REGULARIZATION\n",
    "friza.hyperparameters = (\n",
    "    ACTIVATION_FUNCTION,\n",
    "    METRICS,\n",
    "    OPTIMIZER,\n",
    "    BATCH_SIZE,\n",
    "    EPOCHS,\n",
    "    BUFFER_SIZE,\n",
    "    INPUT_WIDTH,\n",
    "    len(DATASET.columns),\n",
    ")\n",
    "friza.dataset = (DATASET, TRAIN_SIZE, SHUFFLE)"
   ]
  },
  {
   "cell_type": "code",
   "execution_count": null,
   "metadata": {},
   "outputs": [],
   "source": [
    "friza.model()\n",
    "friza.inspect()  # TRUE, TRUE, TRUE\n",
    "friza.train()\n",
    "friza.plot_history()"
   ]
  },
  {
   "cell_type": "code",
   "execution_count": null,
   "metadata": {},
   "outputs": [],
   "source": [
    "friza.predict(TEST_DATASET)"
   ]
  },
  {
   "cell_type": "code",
   "execution_count": null,
   "metadata": {},
   "outputs": [],
   "source": []
  }
 ],
 "metadata": {
  "kernelspec": {
   "display_name": "Python 3",
   "language": "python",
   "name": "python3"
  },
  "language_info": {
   "codemirror_mode": {
    "name": "ipython",
    "version": 3
   },
   "file_extension": ".py",
   "mimetype": "text/x-python",
   "name": "python",
   "nbconvert_exporter": "python",
   "pygments_lexer": "ipython3",
   "version": "3.7.16"
  },
  "orig_nbformat": 4
 },
 "nbformat": 4,
 "nbformat_minor": 2
}
