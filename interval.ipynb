{
 "cells": [
  {
   "cell_type": "code",
   "execution_count": null,
   "metadata": {},
   "outputs": [],
   "source": [
    "import pandas as pd\n",
    "\n",
    "# Read the dataset\n",
    "df = pd.read_csv(f'hours_IoTPond6.csv', index_col=0, parse_dates=[0], dayfirst=True)\n",
    "\n",
    "# Convert the index to a datetime object\n",
    "df.index = pd.to_datetime(df.index)\n",
    "\n",
    "# Get the start and end dates of the dataset\n",
    "start_date = df.index.min()\n",
    "end_date = df.index.max()\n",
    "\n",
    "# Create a new DataFrame with the start and end dates\n",
    "dates = pd.date_range(start_date, end_date, freq='6H')\n",
    "\n",
    "#interpolasi \n",
    "df = df.interpolate(method='linear')\n",
    "\n",
    "# Fill the missing values with the mean\n",
    "df = df.fillna(df.mean())\n",
    "\n",
    "# Write the DataFrame to a CSV file\n",
    "df.to_csv(f\"prepros_pond6_linear.csv\", index=True) "
   ]
  }
 ],
 "metadata": {
  "kernelspec": {
   "display_name": "Python 3",
   "language": "python",
   "name": "python3"
  },
  "language_info": {
   "codemirror_mode": {
    "name": "ipython",
    "version": 3
   },
   "file_extension": ".py",
   "mimetype": "text/x-python",
   "name": "python",
   "nbconvert_exporter": "python",
   "pygments_lexer": "ipython3",
   "version": "3.11.4"
  },
  "orig_nbformat": 4
 },
 "nbformat": 4,
 "nbformat_minor": 2
}
